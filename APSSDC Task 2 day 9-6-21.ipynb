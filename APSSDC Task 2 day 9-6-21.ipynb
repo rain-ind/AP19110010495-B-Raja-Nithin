{
 "cells": [
  {
   "cell_type": "code",
   "execution_count": 26,
   "metadata": {},
   "outputs": [
    {
     "name": "stdout",
     "output_type": "stream",
     "text": [
      "Enter you roll number: 19110010015\n",
      "Cse Dept\n"
     ]
    }
   ],
   "source": [
    "string1= input(\"Enter you roll number: \")\n",
    "string1[-3:]\n",
    "if (string1[-3:].startswith('01')):\n",
    "    print(\"Cse Dept\")\n",
    "elif (string1[-3:].startswith('11')):\n",
    "    print(\"IT Dept\")\n",
    "elif (string1[-3:].startswith('21')):\n",
    "    print(\"Ece Dept\")\n",
    "else:\n",
    "    print(\"Not an SRM student\")"
   ]
  },
  {
   "cell_type": "code",
   "execution_count": 27,
   "metadata": {},
   "outputs": [
    {
     "name": "stdout",
     "output_type": "stream",
     "text": [
      "Enter you roll number: 19110010115\n",
      "IT Dept\n"
     ]
    }
   ],
   "source": [
    "string1= input(\"Enter you roll number: \")\n",
    "string1[-3:]\n",
    "if (string1[-3:].startswith('01')):\n",
    "    print(\"Cse Dept\")\n",
    "elif (string1[-3:].startswith('11')):\n",
    "    print(\"IT Dept\")\n",
    "elif (string1[-3:].startswith('21')):\n",
    "    print(\"Ece Dept\")\n",
    "else:\n",
    "    print(\"Not an SRM student\")"
   ]
  },
  {
   "cell_type": "code",
   "execution_count": 25,
   "metadata": {},
   "outputs": [
    {
     "name": "stdout",
     "output_type": "stream",
     "text": [
      "Enter you roll number: 19110010215\n",
      "Ece Dept\n"
     ]
    }
   ],
   "source": [
    "string1= input(\"Enter you roll number: \")\n",
    "string1[-3:]\n",
    "if (string1[-3:].startswith('01')):\n",
    "    print(\"Cse Dept\")\n",
    "elif (string1[-3:].startswith('11')):\n",
    "    print(\"IT Dept\")\n",
    "elif (string1[-3:].startswith('21')):\n",
    "    print(\"Ece Dept\")\n",
    "else:\n",
    "    print(\"Not an SRM student\")"
   ]
  },
  {
   "cell_type": "code",
   "execution_count": 28,
   "metadata": {},
   "outputs": [
    {
     "name": "stdout",
     "output_type": "stream",
     "text": [
      "Enter you roll number: 19110010495\n",
      "Not an SRM student\n"
     ]
    }
   ],
   "source": [
    "string1= input(\"Enter you roll number: \")\n",
    "string1[-3:]\n",
    "if (string1[-3:].startswith('01')):\n",
    "    print(\"Cse Dept\")\n",
    "elif (string1[-3:].startswith('11')):\n",
    "    print(\"IT Dept\")\n",
    "elif (string1[-3:].startswith('21')):\n",
    "    print(\"Ece Dept\")\n",
    "else:\n",
    "    print(\"Not an SRM student\")"
   ]
  }
 ],
 "metadata": {
  "kernelspec": {
   "display_name": "Python 3",
   "language": "python",
   "name": "python3"
  },
  "language_info": {
   "codemirror_mode": {
    "name": "ipython",
    "version": 3
   },
   "file_extension": ".py",
   "mimetype": "text/x-python",
   "name": "python",
   "nbconvert_exporter": "python",
   "pygments_lexer": "ipython3",
   "version": "3.7.6"
  }
 },
 "nbformat": 4,
 "nbformat_minor": 4
}
